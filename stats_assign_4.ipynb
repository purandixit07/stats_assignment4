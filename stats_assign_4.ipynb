{
 "cells": [
  {
   "cell_type": "markdown",
   "id": "f4722caf",
   "metadata": {},
   "source": [
    "# Q3"
   ]
  },
  {
   "cell_type": "code",
   "execution_count": 3,
   "id": "4142a1da",
   "metadata": {},
   "outputs": [],
   "source": [
    "import statistics"
   ]
  },
  {
   "cell_type": "code",
   "execution_count": 2,
   "id": "5a85f9cf",
   "metadata": {},
   "outputs": [],
   "source": [
    "sample1 = [10,20,30,40,50]\n",
    "sample2 = [5,10,15,20,25]"
   ]
  },
  {
   "cell_type": "code",
   "execution_count": 4,
   "id": "5fec6482",
   "metadata": {},
   "outputs": [
    {
     "data": {
      "text/plain": [
       "15.811388300841896"
      ]
     },
     "execution_count": 4,
     "metadata": {},
     "output_type": "execute_result"
    }
   ],
   "source": [
    "std1 = statistics.stdev(sample1)\n",
    "std1"
   ]
  },
  {
   "cell_type": "code",
   "execution_count": 5,
   "id": "71ec7692",
   "metadata": {},
   "outputs": [
    {
     "data": {
      "text/plain": [
       "7.905694150420948"
      ]
     },
     "execution_count": 5,
     "metadata": {},
     "output_type": "execute_result"
    }
   ],
   "source": [
    "std2 = statistics.stdev(sample2)\n",
    "std2"
   ]
  },
  {
   "cell_type": "code",
   "execution_count": 7,
   "id": "43781b18",
   "metadata": {},
   "outputs": [
    {
     "data": {
      "text/plain": [
       "4.0"
      ]
     },
     "execution_count": 7,
     "metadata": {},
     "output_type": "execute_result"
    }
   ],
   "source": [
    "f_cal = std1**2/std2**2\n",
    "f_cal"
   ]
  },
  {
   "cell_type": "markdown",
   "id": "5621ea50",
   "metadata": {},
   "source": [
    "Finding f value from F-test table with 95% confidence level,\n",
    "F = 6.39"
   ]
  },
  {
   "cell_type": "markdown",
   "id": "f4401e9c",
   "metadata": {},
   "source": [
    "As F table value is not greater than F- calculated value, we can't reject the null hypothesis."
   ]
  },
  {
   "cell_type": "markdown",
   "id": "ee1854e0",
   "metadata": {},
   "source": [
    "# Q2"
   ]
  },
  {
   "cell_type": "code",
   "execution_count": 41,
   "id": "65aeaed3",
   "metadata": {},
   "outputs": [],
   "source": [
    "group1 = [51,45,33,45,67]\n",
    "group2 = [23,43,23,43,45]\n",
    "group3 = [56,76,74,87,56]"
   ]
  },
  {
   "cell_type": "code",
   "execution_count": 52,
   "id": "a8303f84",
   "metadata": {},
   "outputs": [],
   "source": [
    "l = [group1, group2,group3]\n",
    "k = len(l)\n",
    "n = (len(group1)+len(group2)+len(group3))"
   ]
  },
  {
   "cell_type": "markdown",
   "id": "d918f59a",
   "metadata": {},
   "source": [
    "H0: mu1 = mu2 = mu3\n",
    "Ha: at least one difference among the means"
   ]
  },
  {
   "cell_type": "code",
   "execution_count": 43,
   "id": "0d962589",
   "metadata": {},
   "outputs": [],
   "source": [
    "dfBetween= k-1 \n",
    "dfWithin= n-k \n",
    "dfTotal = dfBetween+dfWithin"
   ]
  },
  {
   "cell_type": "markdown",
   "id": "6066b65f",
   "metadata": {},
   "source": [
    "df1 = 2 and df2 = 12 and alpha = 0.05, Ftable = 3.88"
   ]
  },
  {
   "cell_type": "code",
   "execution_count": 44,
   "id": "5ce3fa27",
   "metadata": {},
   "outputs": [
    {
     "data": {
      "text/plain": [
       "(48.2, 35.4, 69.8)"
      ]
     },
     "execution_count": 44,
     "metadata": {},
     "output_type": "execute_result"
    }
   ],
   "source": [
    "def mean(group):\n",
    "    a=0\n",
    "    for i in group:\n",
    "        a = a+i\n",
    "    return a/len(group)\n",
    "\n",
    "mean(group1), mean(group2),mean(group3)\n",
    "    "
   ]
  },
  {
   "cell_type": "code",
   "execution_count": 45,
   "id": "43f7bc06",
   "metadata": {},
   "outputs": [
    {
     "data": {
      "text/plain": [
       "51.13333333333333"
      ]
     },
     "execution_count": 45,
     "metadata": {},
     "output_type": "execute_result"
    }
   ],
   "source": [
    "l = [group1, group2,group3]\n",
    "a = 0\n",
    "for i in l:\n",
    "    for j in i:\n",
    "        a = a+j\n",
    "\n",
    "muGrand = a/n\n",
    "muGrand"
   ]
  },
  {
   "cell_type": "code",
   "execution_count": 46,
   "id": "a8e9ae20",
   "metadata": {},
   "outputs": [
    {
     "data": {
      "text/plain": [
       "4883.733333333333"
      ]
     },
     "execution_count": 46,
     "metadata": {},
     "output_type": "execute_result"
    }
   ],
   "source": [
    "l = [group1, group2,group3]\n",
    "ssTotal=0\n",
    "for i in l:\n",
    "    for j in i:\n",
    "        ssTotal = ssTotal+(j-muGrand)**2\n",
    "        \n",
    "ssTotal"
   ]
  },
  {
   "cell_type": "code",
   "execution_count": 47,
   "id": "9e58e3fd",
   "metadata": {},
   "outputs": [
    {
     "data": {
      "text/plain": [
       "1860.8"
      ]
     },
     "execution_count": 47,
     "metadata": {},
     "output_type": "execute_result"
    }
   ],
   "source": [
    "l = [group1, group2,group3]\n",
    "ssWithin=0\n",
    "for i in l:\n",
    "    for j in i:\n",
    "        ssWithin = ssWithin+(j-mean(i))**2\n",
    "\n",
    "ssWithin"
   ]
  },
  {
   "cell_type": "code",
   "execution_count": 48,
   "id": "a3b08684",
   "metadata": {},
   "outputs": [
    {
     "data": {
      "text/plain": [
       "3022.9333333333325"
      ]
     },
     "execution_count": 48,
     "metadata": {},
     "output_type": "execute_result"
    }
   ],
   "source": [
    "ssBetween = ssTotal-ssWithin\n",
    "ssBetween"
   ]
  },
  {
   "cell_type": "code",
   "execution_count": 49,
   "id": "b338bf8f",
   "metadata": {},
   "outputs": [
    {
     "data": {
      "text/plain": [
       "1511.4666666666662"
      ]
     },
     "execution_count": 49,
     "metadata": {},
     "output_type": "execute_result"
    }
   ],
   "source": [
    "s2Between = ssBetween/dfBetween\n",
    "s2Between"
   ]
  },
  {
   "cell_type": "code",
   "execution_count": 50,
   "id": "ec5accaa",
   "metadata": {},
   "outputs": [
    {
     "data": {
      "text/plain": [
       "155.06666666666666"
      ]
     },
     "execution_count": 50,
     "metadata": {},
     "output_type": "execute_result"
    }
   ],
   "source": [
    "s2Within = ssWithin/dfWithin\n",
    "s2Within"
   ]
  },
  {
   "cell_type": "code",
   "execution_count": 51,
   "id": "c6c5e559",
   "metadata": {},
   "outputs": [
    {
     "data": {
      "text/plain": [
       "9.747205503009456"
      ]
     },
     "execution_count": 51,
     "metadata": {},
     "output_type": "execute_result"
    }
   ],
   "source": [
    "Fcalc = s2Between/s2Within\n",
    "Fcalc"
   ]
  },
  {
   "cell_type": "markdown",
   "id": "d287fb3f",
   "metadata": {},
   "source": [
    "as Fcalc> Ftable, we reject the null hypothesis"
   ]
  },
  {
   "cell_type": "markdown",
   "id": "7ea6ec3f",
   "metadata": {},
   "source": [
    "# Q1"
   ]
  },
  {
   "cell_type": "markdown",
   "id": "967de0ea",
   "metadata": {},
   "source": [
    "H0 = gender and education level are independent\n",
    "Ha = gender and education level are not independent"
   ]
  },
  {
   "cell_type": "markdown",
   "id": "31e0c7be",
   "metadata": {},
   "source": [
    "Obsrved values for each cell"
   ]
  },
  {
   "cell_type": "code",
   "execution_count": 9,
   "id": "b91add18",
   "metadata": {},
   "outputs": [],
   "source": [
    "OHighFemale = 60\n",
    "OBatchFemale = 54\n",
    "OMasterFemale = 46\n",
    "OPhdFemale = 41\n",
    "OHighMale = 40\n",
    "OBatchMale = 44\n",
    "OMasterMale = 53\n",
    "OPhdMale = 57"
   ]
  },
  {
   "cell_type": "markdown",
   "id": "fa0477f4",
   "metadata": {},
   "source": [
    "Expected values for each cell"
   ]
  },
  {
   "cell_type": "code",
   "execution_count": 8,
   "id": "0370fa5f",
   "metadata": {},
   "outputs": [],
   "source": [
    "EHighFemale = 100*201/395\n",
    "EBatchFemale = 98*201/395\n",
    "EMasterFemale = 99*201/395\n",
    "EPhdFemale = 98*201/395\n",
    "EHighMale = 100*194/395\n",
    "EBatchMale = 98*194/395\n",
    "EMasterMale = 99*194/395\n",
    "EPhdMale = 98*194/395"
   ]
  },
  {
   "cell_type": "code",
   "execution_count": 11,
   "id": "cea13ada",
   "metadata": {},
   "outputs": [
    {
     "name": "stdout",
     "output_type": "stream",
     "text": [
      "50.88607594936709\n",
      "49.868354430379746\n",
      "50.37721518987342\n",
      "49.868354430379746\n",
      "49.11392405063291\n",
      "48.131645569620254\n",
      "48.62278481012658\n",
      "48.131645569620254\n"
     ]
    }
   ],
   "source": [
    "print(EHighFemale) \n",
    "print(EBatchFemale) \n",
    "print(EMasterFemale)\n",
    "print(EPhdFemale) \n",
    "print(EHighMale) \n",
    "print(EBatchMale) \n",
    "print(EMasterMale) \n",
    "print(EPhdMale)"
   ]
  },
  {
   "cell_type": "code",
   "execution_count": 17,
   "id": "78ace43e",
   "metadata": {},
   "outputs": [
    {
     "data": {
      "text/plain": [
       "8.006066246262538"
      ]
     },
     "execution_count": 17,
     "metadata": {},
     "output_type": "execute_result"
    }
   ],
   "source": [
    "chi_square_statistic = (OHighFemale-EHighFemale)**2/EHighFemale+(OBatchFemale-EBatchFemale)**2/EBatchFemale+(OMasterFemale-EMasterFemale)**2/EMasterFemale+(OPhdFemale-EPhdFemale)**2/EPhdFemale+(OHighMale-EHighMale)**2/EHighMale+(OBatchMale-EBatchMale)**2/EBatchMale+(OMasterMale-EMasterMale)**2/EMasterMale+(OPhdMale-EPhdMale)**2/EPhdMale\n",
    "chi_square_statistic"
   ]
  },
  {
   "cell_type": "code",
   "execution_count": 18,
   "id": "2a67de63",
   "metadata": {},
   "outputs": [
    {
     "data": {
      "text/plain": [
       "3"
      ]
     },
     "execution_count": 18,
     "metadata": {},
     "output_type": "execute_result"
    }
   ],
   "source": [
    "dof = (2-1)*(4-1)\n",
    "dof"
   ]
  },
  {
   "cell_type": "code",
   "execution_count": 20,
   "id": "b0284542",
   "metadata": {},
   "outputs": [],
   "source": [
    "alpha = 0.05"
   ]
  },
  {
   "cell_type": "code",
   "execution_count": 19,
   "id": "faf85e89",
   "metadata": {},
   "outputs": [],
   "source": [
    "from scipy.stats import chi2"
   ]
  },
  {
   "cell_type": "code",
   "execution_count": 21,
   "id": "fbe5a00b",
   "metadata": {},
   "outputs": [
    {
     "data": {
      "text/plain": [
       "7.814727903251179"
      ]
     },
     "execution_count": 21,
     "metadata": {},
     "output_type": "execute_result"
    }
   ],
   "source": [
    "critical_value = chi2.ppf(q = 1-alpha, df = dof)\n",
    "critical_value"
   ]
  },
  {
   "cell_type": "code",
   "execution_count": 23,
   "id": "d9a478c0",
   "metadata": {},
   "outputs": [
    {
     "data": {
      "text/plain": [
       "0.04588650089174717"
      ]
     },
     "execution_count": 23,
     "metadata": {},
     "output_type": "execute_result"
    }
   ],
   "source": [
    "#p-value\n",
    "p_value=1-chi2.cdf(x=chi_square_statistic,df=dof)\n",
    "p_value"
   ]
  },
  {
   "cell_type": "markdown",
   "id": "778e09f3",
   "metadata": {},
   "source": [
    "As our p value is less than alpha (also critical value is less than chi_square_statistic) we will reject the null hypothesis and conclude that gender and education level are not independent"
   ]
  }
 ],
 "metadata": {
  "kernelspec": {
   "display_name": "Python 3",
   "language": "python",
   "name": "python3"
  },
  "language_info": {
   "codemirror_mode": {
    "name": "ipython",
    "version": 3
   },
   "file_extension": ".py",
   "mimetype": "text/x-python",
   "name": "python",
   "nbconvert_exporter": "python",
   "pygments_lexer": "ipython3",
   "version": "3.8.8"
  }
 },
 "nbformat": 4,
 "nbformat_minor": 5
}
